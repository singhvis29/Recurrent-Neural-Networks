{
  "nbformat": 4,
  "nbformat_minor": 0,
  "metadata": {
    "colab": {
      "name": "DL_A3_Problem2.ipynb",
      "provenance": [],
      "collapsed_sections": []
    },
    "kernelspec": {
      "name": "python3",
      "display_name": "Python 3"
    },
    "accelerator": "GPU"
  },
  "cells": [
    {
      "cell_type": "code",
      "metadata": {
        "id": "Heziaxc2cASP",
        "colab_type": "code",
        "colab": {
          "base_uri": "https://localhost:8080/",
          "height": 64
        },
        "outputId": "c54fe7eb-cb25-4a3a-acfb-51b189c85c51"
      },
      "source": [
        "import numpy as np\n",
        "import tensorflow  as tf\n",
        "from tensorflow.examples.tutorials.mnist import input_data\n",
        "from tensorflow.contrib.layers import fully_connected\n",
        "import matplotlib.pyplot as plt\n",
        "from matplotlib import cm\n",
        "import pandas as pd\n",
        "import librosa\n",
        "from google.colab import files\n",
        "from google.colab import drive\n",
        "import glob\n",
        "import pickle\n",
        "from statistics import mean\n",
        "\n",
        "import warnings\n",
        "warnings.filterwarnings('ignore')"
      ],
      "execution_count": 1,
      "outputs": [
        {
          "output_type": "display_data",
          "data": {
            "text/html": [
              "<p style=\"color: red;\">\n",
              "The default version of TensorFlow in Colab will soon switch to TensorFlow 2.x.<br>\n",
              "We recommend you <a href=\"https://www.tensorflow.org/guide/migrate\" target=\"_blank\">upgrade</a> now \n",
              "or ensure your notebook will continue to use TensorFlow 1.x via the <code>%tensorflow_version 1.x</code> magic:\n",
              "<a href=\"https://colab.research.google.com/notebooks/tensorflow_version.ipynb\" target=\"_blank\">more info</a>.</p>\n"
            ],
            "text/plain": [
              "<IPython.core.display.HTML object>"
            ]
          },
          "metadata": {
            "tags": []
          }
        }
      ]
    },
    {
      "cell_type": "code",
      "metadata": {
        "id": "lrDAp-4fl0qZ",
        "colab_type": "code",
        "outputId": "732f32bf-6f87-4ad2-f6e3-0bdcbf82acbe",
        "colab": {
          "base_uri": "https://localhost:8080/",
          "height": 124
        }
      },
      "source": [
        "drive.mount('/content/Drive/',force_remount =  True)\n",
        "dirpath = \"Drive/My Drive/timit-homework/\""
      ],
      "execution_count": 0,
      "outputs": [
        {
          "output_type": "stream",
          "text": [
            "Go to this URL in a browser: https://accounts.google.com/o/oauth2/auth?client_id=947318989803-6bn6qk8qdgf4n4g3pfee6491hc0brc4i.apps.googleusercontent.com&redirect_uri=urn%3Aietf%3Awg%3Aoauth%3A2.0%3Aoob&scope=email%20https%3A%2F%2Fwww.googleapis.com%2Fauth%2Fdocs.test%20https%3A%2F%2Fwww.googleapis.com%2Fauth%2Fdrive%20https%3A%2F%2Fwww.googleapis.com%2Fauth%2Fdrive.photos.readonly%20https%3A%2F%2Fwww.googleapis.com%2Fauth%2Fpeopleapi.readonly&response_type=code\n",
            "\n",
            "Enter your authorization code:\n",
            "··········\n",
            "Mounted at /content/Drive/\n"
          ],
          "name": "stdout"
        }
      ]
    },
    {
      "cell_type": "code",
      "metadata": {
        "id": "hvPtb9Im1lXw",
        "colab_type": "code",
        "outputId": "0c0bc3b2-f5a1-495d-fd0f-e7e87feabfc0",
        "colab": {
          "base_uri": "https://localhost:8080/",
          "height": 35
        }
      },
      "source": [
        "glob.glob('/content/*')"
      ],
      "execution_count": 0,
      "outputs": [
        {
          "output_type": "execute_result",
          "data": {
            "text/plain": [
              "['/content/Drive', '/content/sample_data']"
            ]
          },
          "metadata": {
            "tags": []
          },
          "execution_count": 3
        }
      ]
    },
    {
      "cell_type": "code",
      "metadata": {
        "id": "oUgREMPi3-gT",
        "colab_type": "code",
        "outputId": "193d149e-d33a-4cbd-d24c-41c964b69d3f",
        "colab": {
          "base_uri": "https://localhost:8080/",
          "height": 35
        }
      },
      "source": [
        "%pwd"
      ],
      "execution_count": 0,
      "outputs": [
        {
          "output_type": "execute_result",
          "data": {
            "text/plain": [
              "'/content'"
            ]
          },
          "metadata": {
            "tags": []
          },
          "execution_count": 4
        }
      ]
    },
    {
      "cell_type": "code",
      "metadata": {
        "id": "bTSgaQOmhqR0",
        "colab_type": "code",
        "colab": {}
      },
      "source": [
        "def file_op(file):\n",
        "  #Loading train files\n",
        "  \n",
        "  s,sr=librosa.load(file, sr=None)\n",
        "  S=librosa.stft(s, n_fft=1024, hop_length=512)\n",
        "  \n",
        "  #Taking absolute of input and output of training file\n",
        "  S =  S.T\n",
        "  S_abs = np.abs(S)\n",
        "  \n",
        "  #print(S_abs.shape)\n",
        "  \n",
        "  return s, S, S_abs\n"
      ],
      "execution_count": 0,
      "outputs": []
    },
    {
      "cell_type": "code",
      "metadata": {
        "id": "0DpCiotjiXj1",
        "colab_type": "code",
        "colab": {}
      },
      "source": [
        "def load_files(filepath):\n",
        "  \n",
        "  at_list = []\n",
        "  spec_list = []\n",
        "  spec_abs_list = []\n",
        "  \n",
        "  print(dirpath+filepath)\n",
        "  \n",
        "  for file in sorted(glob.glob(dirpath+filepath)):\n",
        "    #print(file)\n",
        "    \n",
        "    at, spec, spec_abs = file_op(file)\n",
        "\n",
        "    at_list.append(at)\n",
        "    spec_list.append(spec)\n",
        "    spec_abs_list.append(spec_abs)\n",
        "\n",
        "  sound_lists = {'at_list':at_list,\n",
        "           'spec_list': spec_list,\n",
        "           'spec_abs_list': spec_abs_list}\n",
        "  \n",
        "  return sound_lists"
      ],
      "execution_count": 0,
      "outputs": []
    },
    {
      "cell_type": "code",
      "metadata": {
        "id": "Otseb4kkRlbY",
        "colab_type": "code",
        "colab": {}
      },
      "source": [
        "#Loading files\n",
        "# train_sound_lists = load_files('tr/trx*')"
      ],
      "execution_count": 0,
      "outputs": []
    },
    {
      "cell_type": "code",
      "metadata": {
        "id": "4Ne7ldzPMAEJ",
        "colab_type": "code",
        "outputId": "64c25ab1-3b15-4bf4-87a4-b5f27ad365fa",
        "colab": {
          "base_uri": "https://localhost:8080/",
          "height": 52
        }
      },
      "source": [
        "#Loading clean and noise files\n",
        "# train_clean_lists = load_files('tr/trs*')\n",
        "# train_noise_lists = load_files('tr/trn*')\n"
      ],
      "execution_count": 0,
      "outputs": [
        {
          "output_type": "stream",
          "text": [
            "Drive/My Drive/timit-homework/tr/trs*\n",
            "Drive/My Drive/timit-homework/tr/trn*\n"
          ],
          "name": "stdout"
        }
      ]
    },
    {
      "cell_type": "code",
      "metadata": {
        "id": "4dLamZw9sAp1",
        "colab_type": "code",
        "outputId": "a614ee38-645f-4777-e74b-ab699a84171e",
        "colab": {
          "base_uri": "https://localhost:8080/",
          "height": 69
        }
      },
      "source": [
        "#Loading validations files\n",
        "# val_sound_lists = load_files('v/vx*')\n",
        "# val_clean_lists = load_files('v/vs*')\n",
        "# val_noise_lists = load_files('v/vn*')"
      ],
      "execution_count": 0,
      "outputs": [
        {
          "output_type": "stream",
          "text": [
            "Drive/My Drive/timit-homework/v/vx*\n",
            "Drive/My Drive/timit-homework/v/vs*\n",
            "Drive/My Drive/timit-homework/v/vn*\n"
          ],
          "name": "stdout"
        }
      ]
    },
    {
      "cell_type": "code",
      "metadata": {
        "id": "uoSYHPbWsp05",
        "colab_type": "code",
        "outputId": "dd06f59c-5efa-4271-a6d7-9ed154fcac9c",
        "colab": {
          "base_uri": "https://localhost:8080/",
          "height": 35
        }
      },
      "source": [
        "#Loading test files\n",
        "# test_sound_lists = load_files('te/tex*')"
      ],
      "execution_count": 0,
      "outputs": [
        {
          "output_type": "stream",
          "text": [
            "Drive/My Drive/timit-homework/te/tex*\n"
          ],
          "name": "stdout"
        }
      ]
    },
    {
      "cell_type": "code",
      "metadata": {
        "id": "wXfU-L0tRB9P",
        "colab_type": "code",
        "colab": {}
      },
      "source": [
        "#Loading files to pickle - Training\n",
        "# sound_lists_pkl = open(dirpath+\"train_sound_lists_pkl.pkl\",\"wb\")\n",
        "# pickle.dump(train_sound_lists, sound_lists_pkl)\n",
        "# sound_lists_pkl.close()\n",
        "\n",
        "# clean_lists_pkl = open(dirpath+\"train_clean_lists_pkl.pkl\",\"wb\")\n",
        "# pickle.dump(train_clean_lists, clean_lists_pkl)\n",
        "# clean_lists_pkl.close()\n",
        "\n",
        "# noise_lists_pkl = open(dirpath+\"train_noise_lists_pkl.pkl\",\"wb\")\n",
        "# pickle.dump(train_noise_lists, noise_lists_pkl)\n",
        "# noise_lists_pkl.close()\n",
        "\n"
      ],
      "execution_count": 0,
      "outputs": []
    },
    {
      "cell_type": "code",
      "metadata": {
        "id": "fBJqgsTotQAn",
        "colab_type": "code",
        "colab": {}
      },
      "source": [
        "#Loading pickle to colab - Training\n",
        "sound_lists_pkl_in = open(dirpath+\"train_sound_lists_pkl.pkl\", \"rb\")\n",
        "train_sound_lists = pickle.load(sound_lists_pkl_in)\n",
        "\n",
        "noise_lists_pkl_in = open(dirpath+\"train_noise_lists_pkl.pkl\", \"rb\")\n",
        "train_noise_lists = pickle.load(noise_lists_pkl_in)\n",
        "\n",
        "clean_lists_pkl_in = open(dirpath+\"train_clean_lists_pkl.pkl\", \"rb\")\n",
        "train_clean_lists = pickle.load(clean_lists_pkl_in)"
      ],
      "execution_count": 0,
      "outputs": []
    },
    {
      "cell_type": "code",
      "metadata": {
        "id": "wJIbd3Betyt0",
        "colab_type": "code",
        "colab": {}
      },
      "source": [
        "#Loading files to pickle - Validation\n",
        "# sound_lists_pkl = open(dirpath+\"val_sound_lists_pkl.pkl\",\"wb\")\n",
        "# pickle.dump(val_sound_lists, sound_lists_pkl)\n",
        "# sound_lists_pkl.close()\n",
        "\n",
        "# clean_lists_pkl = open(dirpath+\"val_clean_lists_pkl.pkl\",\"wb\")\n",
        "# pickle.dump(val_clean_lists, clean_lists_pkl)\n",
        "# clean_lists_pkl.close()\n",
        "\n",
        "# noise_lists_pkl = open(dirpath+\"val_noise_lists_pkl.pkl\",\"wb\")\n",
        "# pickle.dump(val_noise_lists, noise_lists_pkl)\n",
        "# noise_lists_pkl.close()"
      ],
      "execution_count": 0,
      "outputs": []
    },
    {
      "cell_type": "code",
      "metadata": {
        "id": "VCd7RAm9u771",
        "colab_type": "code",
        "colab": {}
      },
      "source": [
        "#Loading pickle to colab - Validation\n",
        "sound_lists_pkl_in = open(dirpath+\"val_sound_lists_pkl.pkl\", \"rb\")\n",
        "val_sound_lists = pickle.load(sound_lists_pkl_in)\n",
        "\n",
        "noise_lists_pkl_in = open(dirpath+\"val_clean_lists_pkl.pkl\", \"rb\")\n",
        "val_noise_lists = pickle.load(noise_lists_pkl_in)\n",
        "\n",
        "clean_lists_pkl_in = open(dirpath+\"val_noise_lists_pkl.pkl\", \"rb\")\n",
        "val_clean_lists = pickle.load(clean_lists_pkl_in)"
      ],
      "execution_count": 0,
      "outputs": []
    },
    {
      "cell_type": "code",
      "metadata": {
        "id": "PVzXG53svnod",
        "colab_type": "code",
        "colab": {}
      },
      "source": [
        "#Loading files to pickle - Test\n",
        "# sound_lists_pkl = open(dirpath+\"test_sound_lists_pkl.pkl\",\"wb\")\n",
        "# pickle.dump(test_sound_lists, sound_lists_pkl)\n",
        "# sound_lists_pkl.close()"
      ],
      "execution_count": 0,
      "outputs": []
    },
    {
      "cell_type": "code",
      "metadata": {
        "id": "ERNWc2kDvwEm",
        "colab_type": "code",
        "colab": {}
      },
      "source": [
        "#Loading pickle to colab - Test\n",
        "sound_lists_pkl_in = open(dirpath+\"test_sound_lists_pkl.pkl\", \"rb\")\n",
        "test_sound_lists = pickle.load(sound_lists_pkl_in)"
      ],
      "execution_count": 0,
      "outputs": []
    },
    {
      "cell_type": "code",
      "metadata": {
        "id": "hQqR4LJaUjKQ",
        "colab_type": "code",
        "colab": {}
      },
      "source": [
        "# #Loading pickle(K)\n",
        "# sound_lists_pkl_in = open(dirpath+\"dictOfTrainXFiles.pkl\", \"rb\")\n",
        "# sound_lists = pickle.load(sound_lists_pkl_in)\n",
        "\n",
        "# noise_lists_pkl_in = open(dirpath+\"dictOfTrainNFiles.pkl\", \"rb\")\n",
        "# noise_lists = pickle.load(noise_lists_pkl_in)\n",
        "\n",
        "# clean_lists_pkl_in = open(dirpath+\"dictOfTrainSFiles.pkl\", \"rb\")\n",
        "# clean_lists = pickle.load(clean_lists_pkl_in)\n"
      ],
      "execution_count": 0,
      "outputs": []
    },
    {
      "cell_type": "code",
      "metadata": {
        "id": "2yJFUvUH-5AM",
        "colab_type": "code",
        "colab": {}
      },
      "source": [
        "# M = 1*(noise_lists['spectrogram_MagList']<clean_lists['spectrogram_MagList'])\n",
        "IBM=[]\n",
        "for i in range(1200):\n",
        "  m = 1*(train_noise_lists['spec_abs_list'][i]<train_clean_lists['spec_abs_list'][i])\n",
        "  IBM.append(m)"
      ],
      "execution_count": 0,
      "outputs": []
    },
    {
      "cell_type": "code",
      "metadata": {
        "id": "e5yR_L35VYw-",
        "colab_type": "code",
        "colab": {}
      },
      "source": [
        "#Parameters\n",
        "batch_size = 10\n",
        "\n",
        "n_outputs = 513\n",
        "\n",
        "n_neurons = [512, 256, 512]\n",
        "\n",
        "n_layers = 3"
      ],
      "execution_count": 0,
      "outputs": []
    },
    {
      "cell_type": "code",
      "metadata": {
        "id": "KGaqmjZqBUj-",
        "colab_type": "code",
        "colab": {}
      },
      "source": [
        "X = tf.placeholder(tf.float32, [None, None, 513])\n",
        "y = tf.placeholder(tf.float32, [None, None, 513])"
      ],
      "execution_count": 0,
      "outputs": []
    },
    {
      "cell_type": "code",
      "metadata": {
        "id": "fsUKJ4zSSkr1",
        "colab_type": "code",
        "colab": {}
      },
      "source": [
        "##RNN Architecture\n",
        "lstm_cell1 = tf.keras.layers.LSTMCell(units=n_neurons[0])\n",
        "\n",
        "lstm_cell2 = tf.keras.layers.LSTMCell(units=n_neurons[1])\n",
        "\n",
        "lstm_cell3 = tf.keras.layers.LSTMCell(units=n_neurons[2])\n",
        "\n",
        "multilayer_lstm = tf.keras.layers.StackedRNNCells([lstm_cell1, lstm_cell2])\n",
        "\n",
        "rnn_outputs, rnn_states = tf.nn.dynamic_rnn(multilayer_lstm, X, dtype=tf.float32)\n",
        "\n",
        "fc1 = fully_connected(rnn_outputs,1024)\n",
        "\n",
        "fc1 = tf.nn.dropout(fc1, keep_prob=0.9)\n",
        "\n",
        "output = tf.nn.sigmoid(fully_connected(fc1,n_outputs, activation_fn=None))\n"
      ],
      "execution_count": 0,
      "outputs": []
    },
    {
      "cell_type": "code",
      "metadata": {
        "id": "gD9anKduZcgJ",
        "colab_type": "code",
        "colab": {}
      },
      "source": [
        "#Mean Square Error(MSE) - Defining the error calculated using output of the NN and the given output\n",
        "mse = tf.losses.mean_squared_error(labels=y, predictions=output)\n",
        "loss = tf.reduce_mean(mse, name=\"loss\")\n",
        "\n",
        "#Calculation of Rsquared, which is a measure of error for a regression problem\n",
        "total_error = tf.reduce_sum(tf.square(tf.subtract(y, tf.reduce_mean(y))))\n",
        "unexplained_error = tf.reduce_sum(tf.square(tf.subtract(y, output)))\n",
        "R_squared = tf.subtract(1.0, tf.div(unexplained_error, total_error))"
      ],
      "execution_count": 0,
      "outputs": []
    },
    {
      "cell_type": "code",
      "metadata": {
        "id": "ri36ndzrUsSc",
        "colab_type": "code",
        "colab": {}
      },
      "source": [
        "lr = 0.0005\n",
        "\n",
        "#Using Adam Optimizer for minimizing the loss\n",
        "optimizer = tf.train.AdamOptimizer(lr).minimize(mse)"
      ],
      "execution_count": 0,
      "outputs": []
    },
    {
      "cell_type": "code",
      "metadata": {
        "id": "CJ1MqjOkZukB",
        "colab_type": "code",
        "colab": {}
      },
      "source": [
        "init = tf.global_variables_initializer()\n",
        "saver = tf.train.Saver()"
      ],
      "execution_count": 0,
      "outputs": []
    },
    {
      "cell_type": "code",
      "metadata": {
        "id": "P4cKjyCU-jen",
        "colab_type": "code",
        "outputId": "6e89c278-c42b-4625-bfca-fa592309fc96",
        "colab": {
          "base_uri": "https://localhost:8080/",
          "height": 537
        }
      },
      "source": [
        "#Training the RNN\n",
        "n_epochs = 30\n",
        "losses = []\n",
        "\n",
        "with tf.Session() as sess:\n",
        "  init.run()\n",
        "  for epoch in range(n_epochs):\n",
        "    epoch_loss = 0\n",
        "    for iteration in range(len(train_sound_lists['spec_abs_list']) // batch_size):\n",
        "      X_batch = train_sound_lists['spec_abs_list'][batch_size*iteration:batch_size*(iteration+1)]\n",
        "      y_batch = IBM[batch_size*iteration:batch_size*(iteration+1)]\n",
        "      sess.run(optimizer, feed_dict = {X: X_batch, y: y_batch})\n",
        "      l = mse.eval(feed_dict={X: X_batch, y: y_batch})\n",
        "      epoch_loss += l\n",
        "    #acc_train = R_squared.eval(feed_dict={X: X_batch, y: y_batch})\n",
        "    \n",
        "    losses.append(epoch_loss)\n",
        "    #acc_test = R_squared.eval(feed_dict={X2: mnist.test.images, y2:mnist.test.labels})\n",
        "    print('Epoch:', epoch+1, \"loss:\", epoch_loss)\n",
        "    #, \"Test accuracy:\", acc_test\n",
        "    \n",
        "  save_path = saver.save(sess, dirpath+\"audio_model_rnn.ckpt\") "
      ],
      "execution_count": 0,
      "outputs": [
        {
          "output_type": "stream",
          "text": [
            "Epoch: 1 loss: 26.49275329709053\n",
            "Epoch: 2 loss: 23.26344908773899\n",
            "Epoch: 3 loss: 21.249259263277054\n",
            "Epoch: 4 loss: 19.760746262967587\n",
            "Epoch: 5 loss: 18.761248841881752\n",
            "Epoch: 6 loss: 18.068112567067146\n",
            "Epoch: 7 loss: 17.653731651604176\n",
            "Epoch: 8 loss: 17.187046878039837\n",
            "Epoch: 9 loss: 16.85738967359066\n",
            "Epoch: 10 loss: 16.565571025013924\n",
            "Epoch: 11 loss: 16.312717013061047\n",
            "Epoch: 12 loss: 16.039692722260952\n",
            "Epoch: 13 loss: 15.80054733902216\n",
            "Epoch: 14 loss: 15.576575435698032\n",
            "Epoch: 15 loss: 15.418730325996876\n",
            "Epoch: 16 loss: 15.192585185170174\n",
            "Epoch: 17 loss: 14.976099386811256\n",
            "Epoch: 18 loss: 14.83229809999466\n",
            "Epoch: 19 loss: 14.635369211435318\n",
            "Epoch: 20 loss: 14.489706978201866\n",
            "Epoch: 21 loss: 14.434301525354385\n",
            "Epoch: 22 loss: 14.277378372848034\n",
            "Epoch: 23 loss: 14.179723419249058\n",
            "Epoch: 24 loss: 13.964422926306725\n",
            "Epoch: 25 loss: 13.80157608538866\n",
            "Epoch: 26 loss: 13.697206765413284\n",
            "Epoch: 27 loss: 13.641492538154125\n",
            "Epoch: 28 loss: 13.519776225090027\n",
            "Epoch: 29 loss: 13.430482856929302\n",
            "Epoch: 30 loss: 13.333036288619041\n"
          ],
          "name": "stdout"
        }
      ]
    },
    {
      "cell_type": "code",
      "metadata": {
        "id": "2nnI6n9LB-98",
        "colab_type": "code",
        "outputId": "2cfc2117-50aa-445e-c855-b7faae77b3a0",
        "colab": {
          "base_uri": "https://localhost:8080/",
          "height": 394
        }
      },
      "source": [
        "#plotting losses vs epochs\n",
        "eps = np.arange(0,n_epochs)\n",
        "plt.plot(eps, losses)\n",
        "plt.xlabel('epochs')\n",
        "plt.ylabel('MSE')\n",
        "plt.title('LSTM')"
      ],
      "execution_count": 0,
      "outputs": [
        {
          "output_type": "execute_result",
          "data": {
            "text/plain": [
              "Text(0.5, 1.0, 'LSTM')"
            ]
          },
          "metadata": {
            "tags": []
          },
          "execution_count": 28
        },
        {
          "output_type": "display_data",
          "data": {
            "image/png": "[encoded data removed]",
            "text/plain": [
              "<Figure size 576x396 with 1 Axes>"
            ]
          },
          "metadata": {
            "tags": []
          }
        }
      ]
    },
    {
      "cell_type": "code",
      "metadata": {
        "id": "a7HP4tx8wIx9",
        "colab_type": "code",
        "colab": {}
      },
      "source": [
        "#Function to recover clean audio from input in  time domain after running through the trained NN\n",
        "def speech_recovery(s_data):\n",
        "  X1 = s_data\n",
        "  X_abs = np.abs(X1)\n",
        "  \n",
        "  with tf.Session() as sess:\n",
        "    #init.run()\n",
        "    saver.restore(sess, dirpath+\"audio_model_rnn.ckpt\")\n",
        "    X_abs = np.reshape(X_abs, (1,X_abs.shape[0],X_abs.shape[1]))\n",
        "    ff = output.eval(feed_dict = {X: X_abs})\n",
        "    #Hadamard product to construct clean test signal\n",
        "    sbar = ff[0]*X1\n",
        "    \n",
        "    #inverse stft to bring the signal to time domain\n",
        "    s = librosa.core.istft(sbar.T, hop_length=512)\n",
        "    \n",
        "  return s "
      ],
      "execution_count": 0,
      "outputs": []
    },
    {
      "cell_type": "code",
      "metadata": {
        "id": "DOc9JzVuwtES",
        "colab_type": "code",
        "colab": {}
      },
      "source": [
        "#Function for calculating SNR\n",
        "def snr_cal(at_clean_file, spec_sound_file):\n",
        "  \n",
        "  s = speech_recovery(spec_sound_file)\n",
        "  \n",
        "  min_len = min(len(at_clean_file),len(s))\n",
        "  pred_clipped = s[:min_len]\n",
        "  true_clipped = at_clean_file[:min_len]\n",
        "  \n",
        "  signal = np.dot(true_clipped,true_clipped.T)\n",
        "  subtract = true_clipped - pred_clipped\n",
        "  noise = np.dot(subtract,subtract.T)\n",
        "  \n",
        "  snr = 10*np.log10(signal/noise)\n",
        "  #print('Signal to Noise Ratio for input file:',snr)\n",
        "  return snr\n",
        "\n",
        "  "
      ],
      "execution_count": 0,
      "outputs": []
    },
    {
      "cell_type": "code",
      "metadata": {
        "id": "deH1sCaYqu5z",
        "colab_type": "code",
        "outputId": "eddb6d38-dca1-4a71-9618-471d85b0361d",
        "colab": {
          "base_uri": "https://localhost:8080/",
          "height": 52
        }
      },
      "source": [
        "snr_cal(val_clean_lists['at_list'][2], val_sound_lists['spec_list'][2])"
      ],
      "execution_count": 0,
      "outputs": [
        {
          "output_type": "stream",
          "text": [
            "INFO:tensorflow:Restoring parameters from Drive/My Drive/timit-homework/audio_model_rnn.ckpt\n"
          ],
          "name": "stdout"
        },
        {
          "output_type": "execute_result",
          "data": {
            "text/plain": [
              "-3.6079564690589905"
            ]
          },
          "metadata": {
            "tags": []
          },
          "execution_count": 34
        }
      ]
    },
    {
      "cell_type": "code",
      "metadata": {
        "id": "ceSU0uEw1SFe",
        "colab_type": "code",
        "colab": {}
      },
      "source": [
        "#Outputting the first validations file\n",
        "val1_ff = speech_recovery(val_sound_lists['spec_list'][0])\n",
        "librosa.output.write_wav('test_s_01_recons.wav', val1_ff, 16000)\n",
        "files.download('test_s_01_recons.wav')\n"
      ],
      "execution_count": 0,
      "outputs": []
    },
    {
      "cell_type": "code",
      "metadata": {
        "id": "-Ruvvlcr-WUT",
        "colab_type": "code",
        "colab": {}
      },
      "source": [
        "snr_vals = []\n",
        "for i in range(1200):\n",
        "  snr = snr_cal(val_clean_lists['at_list'][i], val_sound_lists['spec_list'][i])\n",
        "  #print(snr)\n",
        "  snr_vals.append(snr)\n",
        "  \n",
        "#print('Average SNR:',mean(snr_vals))"
      ],
      "execution_count": 0,
      "outputs": []
    },
    {
      "cell_type": "code",
      "metadata": {
        "id": "jysLNBTcA7NM",
        "colab_type": "code",
        "colab": {}
      },
      "source": [
        "#Storing the feed forward Test files\n",
        "for i in range(len(test_sound_lists['at_list'])):\n",
        "  test_ff = speech_recovery(test_sound_lists['spec_list'][i])\n",
        "  op_file_name = 'test-ff/test_s_'+str(i)+'_recons.wav'\n",
        "  librosa.output.write_wav(dirpath+op_file_name, test_ff, 16000)"
      ],
      "execution_count": 0,
      "outputs": []
    },
    {
      "cell_type": "code",
      "metadata": {
        "id": "Sz3Kifqa6GFh",
        "colab_type": "code",
        "colab": {}
      },
      "source": [
        "# test_ff = speech_recovery(val_sound_lists['spec_list'][0])\n",
        "# op_file_name = 'test-ff/test_s_'+str(0)+'_recons.wav'\n",
        "# librosa.output.write_wav(dirpath+op_file_name, val1_ff, 16000)\n"
      ],
      "execution_count": 0,
      "outputs": []
    },
    {
      "cell_type": "code",
      "metadata": {
        "id": "7Gdr6omw7WMf",
        "colab_type": "code",
        "colab": {}
      },
      "source": [
        ""
      ],
      "execution_count": 0,
      "outputs": []
    }
  ]
}